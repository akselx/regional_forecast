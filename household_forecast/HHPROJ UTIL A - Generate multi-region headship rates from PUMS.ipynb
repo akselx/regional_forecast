{
 "cells": [
  {
   "cell_type": "code",
   "execution_count": 205,
   "metadata": {},
   "outputs": [],
   "source": [
    "import os\n",
    "import seaborn as sns\n",
    "import pandas as pd\n",
    "import re, io, numpy as np\n",
    "from cStringIO import StringIO \n",
    "from pandas.api.types import CategoricalDtype\n",
    "\n",
    "import logging\n",
    "logger = logging.getLogger()\n",
    "logger.setLevel(logging.ERROR)  #DEBUG, INFO, WARNING, ERROR, CRITICAL"
   ]
  },
  {
   "cell_type": "code",
   "execution_count": 206,
   "metadata": {},
   "outputs": [
    {
     "name": "stdout",
     "output_type": "stream",
     "text": [
      "Populating the interactive namespace from numpy and matplotlib\n",
      "Current size: [6.0, 4.0]\n",
      "Current size: [10, 6.5]\n"
     ]
    },
    {
     "name": "stderr",
     "output_type": "stream",
     "text": [
      "/Users/aolsen/anaconda2/envs/geoenv/lib/python2.7/site-packages/IPython/core/magics/pylab.py:161: UserWarning: pylab import has clobbered these variables: ['colors']\n",
      "`%matplotlib` prevents importing * from pylab and numpy\n",
      "  \"\\n`%matplotlib` prevents importing * from pylab and numpy\"\n"
     ]
    }
   ],
   "source": [
    "%pylab inline\n",
    "# Get current size\n",
    "fig_size = plt.rcParams[\"figure.figsize\"]\n",
    "print \"Current size:\", fig_size\n",
    "# Set figure width to 12 and height to 9\n",
    "fig_size[0] = 10\n",
    "fig_size[1] = 6.5\n",
    "plt.rcParams[\"figure.figsize\"] = fig_size\n",
    "print \"Current size:\", fig_size\n",
    "plt.rcParams['figure.figsize']\n",
    "plt.style.use('ggplot')"
   ]
  },
  {
   "cell_type": "code",
   "execution_count": 207,
   "metadata": {},
   "outputs": [],
   "source": [
    "drop=os.getenv('DROPBOX_LOC')\n",
    "box=os.getenv('BOX_LOC')"
   ]
  },
  {
   "cell_type": "code",
   "execution_count": 208,
   "metadata": {},
   "outputs": [],
   "source": [
    "import matplotlib.ticker as ticker\n",
    "fmt = lambda x,pos: '{:,.0f}'.format(x)\n",
    "cbar_kws={'format': ticker.FuncFormatter(fmt)}\n",
    "fmt_float = lambda x,pos: '{:,.3f}'.format(x)\n",
    "cbar_kws_float={'format': ticker.FuncFormatter(fmt_float)}\n",
    "import matplotlib.patches as patches\n",
    "\n",
    "from matplotlib.backends.backend_pdf import PdfPages\n",
    "import matplotlib.colors as colors\n",
    "import matplotlib.patheffects as PathEffects\n",
    "\n",
    "class MidpointNormalize(Normalize):\n",
    "    def __init__(self, vmin=None, vmax=None, midpoint=None, clip=False):\n",
    "        self.midpoint = midpoint\n",
    "        Normalize.__init__(self, vmin, vmax, clip)\n",
    "\n",
    "    def __call__(self, value, clip=None):\n",
    "        # I'm ignoring masked values and all kinds of edge cases to make a\n",
    "        # simple example...\n",
    "        x, y = [self.vmin, self.midpoint, self.vmax], [0, 0.5, 1]\n",
    "        return np.ma.masked_array(np.interp(value, x, y))\n",
    "    "
   ]
  },
  {
   "cell_type": "markdown",
   "metadata": {},
   "source": [
    "## Generate a multitude of headship rates from different time periods / vintages, and geographies"
   ]
  },
  {
   "cell_type": "markdown",
   "metadata": {},
   "source": [
    "### Prepare geographic mappings"
   ]
  },
  {
   "cell_type": "code",
   "execution_count": 209,
   "metadata": {},
   "outputs": [],
   "source": [
    "#atlantacounties=['Henry','Cobb','Rockdale','DeKalb','Gwinnett','Douglas','Cherokee','Fulton','Fayette','Clayton']"
   ]
  },
  {
   "cell_type": "code",
   "execution_count": 210,
   "metadata": {},
   "outputs": [
    {
     "data": {
      "text/plain": [
       "{u'13057': u'Cherokee',\n",
       " u'13063': u'Clayton',\n",
       " u'13067': u'Cobb',\n",
       " u'13089': u'DeKalb',\n",
       " u'13097': u'Douglas',\n",
       " u'13113': u'Fayette',\n",
       " u'13121': u'Fulton',\n",
       " u'13135': u'Gwinnett',\n",
       " u'13151': u'Henry',\n",
       " u'13247': u'Rockdale'}"
      ]
     },
     "execution_count": 210,
     "metadata": {},
     "output_type": "execute_result"
    }
   ],
   "source": [
    "uscnty=gpd.read_file(os.path.join(drop,'Documents/Data/GIS/Census/tiger/cb_2015_us_county_500k.shp'))\n",
    "uscnty.loc[(uscnty.STATEFP=='13')&(uscnty.NAME.isin(atlantacounties))].set_index('GEOID').NAME.to_dict()"
   ]
  },
  {
   "cell_type": "code",
   "execution_count": 211,
   "metadata": {},
   "outputs": [],
   "source": [
    "bayareafips_full ={'06001':'Alameda', '06013':'Contra Costa', '06041':'Marin', '06055':'Napa', '06075':'San Francisco', '06081':'San Mateo', '06085':'Santa Clara', '06097':'Sonoma', '06095':'Solano'}\n",
    "cntystring='({})'.format('|'.join(bayareafips_full.values()))\n",
    "\n",
    "remiregions={'Alameda': 'East Bay',\n",
    " 'Contra Costa': 'East Bay',\n",
    " 'Marin': 'West Bay',\n",
    " 'Napa': 'North Bay',\n",
    " 'San Francisco': 'West Bay',\n",
    " 'San Mateo': 'West Bay',\n",
    " 'Santa Clara': 'South Bay',\n",
    " 'Solano': 'North Bay',\n",
    " 'Sonoma': 'North Bay'}\n",
    "\n",
    "atlanta_regional={u'13057': u'Cherokee',\n",
    " u'13063': u'Clayton',\n",
    " u'13067': u'Cobb',\n",
    " u'13089': u'DeKalb',\n",
    " u'13097': u'Douglas',\n",
    " u'13113': u'Fayette',\n",
    " u'13121': u'Fulton',\n",
    " u'13135': u'Gwinnett',\n",
    " u'13151': u'Henry',\n",
    " u'13247': u'Rockdale'}\n",
    "\n",
    "\n",
    "atlanta_regional={u'13057': u'Atlanta Regional',\n",
    " u'13063': u'Atlanta Regional',\n",
    " u'13067': u'Atlanta Regional',\n",
    " u'13089': u'Atlanta Regional',\n",
    " u'13097': u'Atlanta Regional',\n",
    " u'13113': u'Atlanta Regional',\n",
    " u'13121': u'Atlanta Regional',\n",
    " u'13135': u'Atlanta Regional',\n",
    " u'13151': u'Atlanta Regional',\n",
    " u'13247': u'Atlanta Regional'}\n",
    "\n",
    "## for halo counties, rely on the regionalization in \n",
    "## http://www.cdss.ca.gov/research/res/pdf/multireports/RegionsofCalifornia.pdf\n",
    "\n",
    "\n",
    "halofips = {'06077':'San Joaquin','06099':'Stanislaus','06067':'Sacramento','06047':'Merced',\n",
    "           '06113':'Yolo','06115':'Yuba','06101':'Sutter','06017':'El Dorado','06061':'Placer',\n",
    "            '06087':'Santa Cruz','06069':'San Benito','06053':'Monterey',\n",
    "            '06033':'Lake','06045':'Mendocino','outside':'outside'}\n",
    "\n",
    "halotype={'06077':'Halo Southern Farm','06047':'Halo Southern Farm','06033':'North and Mountains','06045':'Mendocino',\n",
    "          '06045':'Halo North and Mountains',\n",
    "          '06099':'Halo Southern Farm','06067':'Halo Central Valley',\n",
    "           '06113':'Halo Central Valley','06115':'Halo Central Valley','06101':'Halo Central Valley',\n",
    "          '06017':'Halo Central Valley','06061':'Halo Central Valley',\n",
    "            '06087':'Halo Bay Area','06069':'Halo Southern Farm','06053':'Halo Southern Farm','outside':'outside'}\n",
    "## mapping for REMI area grouping\n",
    "bayarearegions={'06001':'East Bay',\n",
    " '06013':'East Bay',\n",
    " '06085':'South Bay',\n",
    " '06055':'North Bay',\n",
    " '06081':'West Bay',\n",
    " '06075':'West Bay',\n",
    " '06097':'North Bay',\n",
    " '06041':'West Bay',\n",
    " '06095':'North Bay',\n",
    "               }\n",
    "regiontype=bayarearegions.copy()\n",
    "regiontype.update(halotype)\n",
    "\n",
    "bothfips = bayareafips_full.copy()\n",
    "bothfips.update(halofips)\n",
    "\n",
    "\n",
    "north_bay =  {'06055':'North Bay',\n",
    " '06097':'North Bay',\n",
    " '06095':'North Bay'}"
   ]
  },
  {
   "cell_type": "code",
   "execution_count": 212,
   "metadata": {},
   "outputs": [],
   "source": [
    "regiontype_gen={'06001': 'Bay Area',\n",
    " '06013': 'Bay Area',\n",
    " '06017': 'Rest of CA',\n",
    " '06033':'Rest of CA',\n",
    " '06045':'Rest of CA',\n",
    " '06041': 'Bay Area',\n",
    " '06047': 'Rest of CA',\n",
    " '06053': 'Rest of CA',\n",
    " '06055': 'Bay Area',\n",
    " '06061': 'Rest of CA',\n",
    " '06067': 'Rest of CA',\n",
    " '06069': 'Rest of CA',\n",
    " '06075': 'Bay Area',\n",
    " '06077': 'Rest of CA',\n",
    "                '06073':'SANDAG',\n",
    " '06081': 'Bay Area',\n",
    " '06085': 'Bay Area',\n",
    " '06087': 'Rest of CA',\n",
    " '06095': 'Bay Area',\n",
    " '06097': 'Bay Area',\n",
    " '06099': 'Rest of CA',\n",
    " '06101': 'Rest of CA',\n",
    " '06113': 'Rest of CA',\n",
    " '06115': 'Rest of CA',\n",
    "                 '06025': 'SCAG',  # imperial\n",
    " '06037': 'SCAG',   # LA\n",
    " '06071': 'SCAG',  # san bernadino\n",
    " '06059': 'SCAG',  # orange\n",
    " '06065': 'SCAG',  # riverside\n",
    " '06011': 'SCAG', # ventura\n",
    " 'outside': 'outside',\n",
    "               u'13057': u'Atlanta Regional',\n",
    " u'13063': u'Atlanta Regional',\n",
    " u'13067': u'Atlanta Regional',\n",
    " u'13089': u'Atlanta Regional',\n",
    " u'13097': u'Atlanta Regional',\n",
    " u'13113': u'Atlanta Regional',\n",
    " u'13121': u'Atlanta Regional',\n",
    " u'13135': u'Atlanta Regional',\n",
    " u'13151': u'Atlanta Regional',\n",
    " u'13247': u'Atlanta Regional'}"
   ]
  },
  {
   "cell_type": "code",
   "execution_count": 213,
   "metadata": {},
   "outputs": [],
   "source": [
    "regiontype_gen_halodetail={'06001': 'Bay Area',\n",
    " '06013': 'Bay Area',\n",
    " '06017': 'Halo Central Valley',           \n",
    " '06033':'Halo North and Mountains',\n",
    " '06045':'Halo North and Mountains',\n",
    " '06041': 'Bay Area',\n",
    " '06047': 'Halo Southern Farm',\n",
    " '06053': 'Halo Southern Farm',\n",
    " '06055': 'Bay Area',\n",
    " '06061': 'Halo Central Valley',\n",
    " '06067': 'Halo Central Valley',\n",
    " '06069': 'Halo Southern Farm',\n",
    " '06075': 'Bay Area',\n",
    " '06077': 'Halo Southern Farm',\n",
    " '06081': 'Bay Area',\n",
    " '06085': 'Bay Area',\n",
    " '06087': 'Halo Bay Area',\n",
    " '06095': 'Bay Area',\n",
    " '06097': 'Bay Area',\n",
    " '06099': 'Halo Southern Farm',\n",
    " '06101': 'Halo Central Valley',\n",
    " '06113': 'Halo Central Valley',\n",
    " '06115': 'Halo Central Valley',\n",
    " '06025': 'SCAG',  # imperial\n",
    " '06037': 'SCAG',   # LA\n",
    " '06071': 'SCAG',  # san bernadino\n",
    " '06059': 'SCAG',  # orange\n",
    " '06065': 'SCAG',  # riverside\n",
    " '06011': 'SCAG', # ventura\n",
    "                           \n",
    "                           \n",
    " 'outside': 'outside'}"
   ]
  },
  {
   "cell_type": "code",
   "execution_count": 214,
   "metadata": {},
   "outputs": [],
   "source": [
    "cageos = pd.read_csv(os.path.join(drop,'Documents/Data/_Census/LEHD/ca_xwalk.csv'),dtype=str)\n",
    "cageos['juris']=cageos.stplcname.str.replace(' city, CA','')\n",
    "cafips=cageos.groupby(['cty','ctyname']).size().reset_index().set_index('cty').ctyname.str.replace(' County, CA','')"
   ]
  },
  {
   "cell_type": "code",
   "execution_count": 11,
   "metadata": {},
   "outputs": [
    {
     "data": {
      "text/plain": [
       "STPUMA\n",
       "0100100    01077\n",
       "0100200    01083\n",
       "0100301    01089\n",
       "0100302    01089\n",
       "0100400    01049\n",
       "Name: STCOUNTY, dtype: object"
      ]
     },
     "execution_count": 11,
     "metadata": {},
     "output_type": "execute_result"
    }
   ],
   "source": [
    "## puma to county relationship file\n",
    "\n",
    "pumarel=pd.read_csv(os.path.join(drop,'Documents/Data/_Census/geo/2010_Census_Tract_to_2010_PUMA.txt'),dtype=str)\n",
    "pumarel['STPUMA']=pumarel.STATEFP+pumarel.PUMA5CE\n",
    "pumarel['STCOUNTY']=pumarel.STATEFP+pumarel.COUNTYFP\n",
    "pumarel=pumarel.groupby(['STPUMA','STCOUNTY']).size().groupby(level=0,group_keys=False).nlargest(1).reset_index(1).STCOUNTY\n",
    "pumarel.head()"
   ]
  },
  {
   "cell_type": "markdown",
   "metadata": {},
   "source": [
    "### define a few convenience functions"
   ]
  },
  {
   "cell_type": "code",
   "execution_count": 215,
   "metadata": {},
   "outputs": [],
   "source": [
    "pct=lambda x: x/x.sum()\n",
    "\n",
    "def incbreaker(breaks):\n",
    "    labels=[]\n",
    "    for f in range(len(breaks)-1):\n",
    "        labels.append(\"${fr:,.0f}-${to:,.0f}\".format(fr=breaks[f],to=breaks[f+1]-1))\n",
    "    labels[-1]='${dt:,.0f}+'.format(dt=breaks[-2])\n",
    "    return labels\n",
    "\n",
    "\n",
    "def agebreaker(breaks):\n",
    "    labels=[]\n",
    "    for f in range(len(breaks)-1):\n",
    "        labels.append(\"age{fr:02.0f}{to:02.0f}\".format(fr=breaks[f],to=breaks[f+1]-1))\n",
    "    labels[-1]='age{dt:,.0f}p'.format(dt=breaks[-2])\n",
    "    return labels\n",
    "def agebreaker2(breaks):\n",
    "    labels=[]\n",
    "    for f in range(len(breaks)-1):\n",
    "        labels.append(\"Ages {fr:.0f}-{to:.0f}\".format(fr=breaks[f],to=breaks[f+1]-1))\n",
    "    labels[-1]='Ages {dt:,.0f}+'.format(dt=breaks[-2])\n",
    "    return labels\n",
    "\n",
    "diffbreaks_custom =[0,18,25,45,65,np.inf]\n",
    "diffbreaks_5 =range(0,86,5)+[np.inf]"
   ]
  },
  {
   "cell_type": "code",
   "execution_count": 216,
   "metadata": {},
   "outputs": [],
   "source": [
    "def map_value_labels(codes_pasted,var):\n",
    "    \"\"\"\n",
    "    Reads pasted id:value correspondence and prepares a \n",
    "    id:value dictionary to be used for mapping\n",
    "    \"\"\"\n",
    "    \n",
    "    ## substitute dots and leading space\n",
    "    codes_pasted = re.sub(r' \\.','\\t', codes_pasted)\n",
    "    \n",
    "    ## read code string as if it were a file object, store in dataframe\n",
    "    df_codes = pd.read_csv(StringIO(codes_pasted), \n",
    "                           encoding='utf8', sep=\"\\t\",\n",
    "                           header=None if os.name=='posix' else None,\n",
    "                           names=['id','value'],\n",
    "                           dtype={'id': object, 'value': object})\n",
    "    \n",
    "    df_codes['value']=df_codes['value'].str.strip()\n",
    "    df_codes.index=df_codes.id.astype(np.int64)\n",
    "    df_codes=df_codes['value'].to_dict()\n",
    "    \n",
    "    return df_codes"
   ]
  },
  {
   "cell_type": "code",
   "execution_count": 217,
   "metadata": {},
   "outputs": [],
   "source": [
    "def race_eth(df):\n",
    "    if df.name>1:\n",
    "        return 'Hispanic'\n",
    "    else:\n",
    "        return df+'-NonHispanic'"
   ]
  },
  {
   "cell_type": "markdown",
   "metadata": {},
   "source": [
    "### Paste codes from PUMS data dictionary, and modify as needed"
   ]
  },
  {
   "cell_type": "code",
   "execution_count": 194,
   "metadata": {},
   "outputs": [],
   "source": [
    "codesrace =\"\"\"\n",
    "1 .white\n",
    "2 .black\n",
    "3 .other\n",
    "4 .other\n",
    "5 .other\n",
    "6 .asian\n",
    "7 .other\n",
    "8 .other\n",
    "9 .other\n",
    "\"\"\"\n",
    "codesworkers=\"\"\"\n",
    "0 .No workers\n",
    "1 .1 worker\n",
    "2 .2 workers\n",
    "3 .3 or more workers in family\n",
    "\"\"\"\n",
    "## REMI doesn't have much race detail, so we don't either.\n",
    "codesraceREMI =\"\"\"\n",
    "1 .White\n",
    "2 .Black\n",
    "3 .Other\n",
    "4 .Other\n",
    "5 .Other\n",
    "6 .Other\n",
    "7 .Other\n",
    "8 .Other\n",
    "9 .Other\n",
    "\"\"\""
   ]
  },
  {
   "cell_type": "code",
   "execution_count": 218,
   "metadata": {},
   "outputs": [
    {
     "data": {
      "text/plain": [
       "{1: u'White',\n",
       " 2: u'Black',\n",
       " 3: u'Other',\n",
       " 4: u'Other',\n",
       " 5: u'Other',\n",
       " 6: u'Other',\n",
       " 7: u'Other',\n",
       " 8: u'Other',\n",
       " 9: u'Other'}"
      ]
     },
     "execution_count": 218,
     "metadata": {},
     "output_type": "execute_result"
    }
   ],
   "source": [
    "## get value labels\n",
    "race_value_map = map_value_labels(codesrace,'RAC1P')\n",
    "workers_value_map = map_value_labels(codesworkers,'WIF')\n",
    "remirace_value_map = map_value_labels(codesraceREMI,'RAC1P')\n",
    "remirace_value_map"
   ]
  },
  {
   "cell_type": "markdown",
   "metadata": {},
   "source": [
    "## Load PUMS sample data"
   ]
  },
  {
   "cell_type": "code",
   "execution_count": 169,
   "metadata": {},
   "outputs": [
    {
     "data": {
      "text/plain": [
       "'2014_2018'"
      ]
     },
     "execution_count": 169,
     "metadata": {},
     "output_type": "execute_result"
    }
   ],
   "source": [
    "## set ACS vars\n",
    "\n",
    "VINTAGE=2018\n",
    "SAMPLE=5\n",
    "\n",
    "acsvintagestr='{:}_{:}'.format(VINTAGE-4,VINTAGE) if SAMPLE==5 else '{:}'.format(VINTAGE)\n",
    "acsvintagestr"
   ]
  },
  {
   "cell_type": "code",
   "execution_count": 170,
   "metadata": {},
   "outputs": [
    {
     "data": {
      "text/plain": [
       "'/Users/aolsen/Dropbox/Documents/Data/_Census/ACS/PUMS/2014_2018/psam_p06.csv'"
      ]
     },
     "execution_count": 170,
     "metadata": {},
     "output_type": "execute_result"
    }
   ],
   "source": [
    "persons_file='/Users/aolsen/Dropbox/Documents/Data/_Census/ACS/PUMS/{acsvintage}/psam_p06.csv'.format(acsvintage=acsvintagestr)\n",
    "persons_file"
   ]
  },
  {
   "cell_type": "markdown",
   "metadata": {},
   "source": [
    "### Load data and do key assignments"
   ]
  },
  {
   "cell_type": "code",
   "execution_count": 119,
   "metadata": {},
   "outputs": [],
   "source": [
    "persons=pd.read_csv(persons_file)\n",
    "\n",
    "## assign geography - synthesizer requires geography to be named sample geography it seems so we use that instead of county\n",
    "persons['YEAR']=VINTAGE\n",
    "persons['STPUMA']=persons.ST.apply(lambda x: '{:0>2}'.format(x))+persons.PUMA.apply(lambda x: '{:0>5}'.format(x))\n",
    "persons['STPUMA']=persons['STPUMA'].astype('category')\n",
    "persons['county']=persons.STPUMA.replace(pumarel).fillna('').map(regiontype_gen).fillna('Rest of CA').astype('category')\n",
    "\n",
    "## assign key person variables\n",
    "persons['age']=pd.cut(persons.AGEP,bins=[-1,19,35,60,102],labels=[ '19 and under','20 to 35','35 to 60', 'above 60']).astype(str)\n",
    "persons['age_fine']=pd.cut(persons.AGEP, right=False,bins=diffbreaks_custom,labels=agebreaker(diffbreaks_custom)).astype(str)\n",
    "persons['age_grp_5']=pd.cut(persons.AGEP, right=False,bins=diffbreaks_5,labels=agebreaker2(diffbreaks_5))\n",
    "\n",
    "persons['sex']=persons.SEX.map({1:'male',2:'female'})\n",
    "\n",
    "## add race / ethnicity \n",
    "persons['race_remi']=persons.RAC1P.map(remirace_value_map)\n",
    "persons['rac_ethn']=persons.groupby(['HISP'])['race_remi'].transform(race_eth)\n",
    "\n",
    "persons=persons.drop(labels=['SEX'],axis=1)"
   ]
  },
  {
   "cell_type": "code",
   "execution_count": 120,
   "metadata": {},
   "outputs": [],
   "source": [
    "persons.columns=persons.columns.str.lower()"
   ]
  },
  {
   "cell_type": "code",
   "execution_count": 121,
   "metadata": {},
   "outputs": [
    {
     "data": {
      "text/plain": [
       "rac_ethn\n",
       "Black-NonHispanic     2159291\n",
       "Hispanic             15220609\n",
       "Other-NonHispanic     7074130\n",
       "White-NonHispanic    14694730\n",
       "Name: pwgtp, dtype: int64"
      ]
     },
     "execution_count": 121,
     "metadata": {},
     "output_type": "execute_result"
    }
   ],
   "source": [
    "persons.groupby(['rac_ethn']).pwgtp.sum()"
   ]
  },
  {
   "cell_type": "markdown",
   "metadata": {},
   "source": [
    "### Create headship rates\n",
    "We need householders relative to the household population, for relevant subgroups. `RELP` is our friend."
   ]
  },
  {
   "cell_type": "code",
   "execution_count": 219,
   "metadata": {},
   "outputs": [],
   "source": [
    "## set groups of interest for the headship rates - we treat the bay area as \"county\"\n",
    "\n",
    "hhgrp=['county','rac_ethn','age_grp_5']"
   ]
  },
  {
   "cell_type": "code",
   "execution_count": 220,
   "metadata": {},
   "outputs": [
    {
     "data": {
      "text/plain": [
       "county    rac_ethn           age_grp_5 \n",
       "Bay Area  Black-NonHispanic  Ages 15-19      520\n",
       "                             Ages 20-24     4079\n",
       "                             Ages 25-29    11028\n",
       "                             Ages 30-34    12645\n",
       "                             Ages 35-39    13814\n",
       "Name: pwgtp, dtype: int64"
      ]
     },
     "execution_count": 220,
     "metadata": {},
     "output_type": "execute_result"
    }
   ],
   "source": [
    "## numerator - householders\n",
    "\n",
    "#numerator=persons.loc[(~persons.relp.isin([16,17]))&(persons.sporder==1)].groupby(hhgrp).pwgtp.sum()\n",
    "numerator=persons.loc[persons.relp.isin([0])].groupby(hhgrp).pwgtp.sum()\n",
    "numerator.head()"
   ]
  },
  {
   "cell_type": "code",
   "execution_count": 221,
   "metadata": {},
   "outputs": [
    {
     "data": {
      "text/plain": [
       "county    rac_ethn           age_grp_5 \n",
       "Bay Area  Black-NonHispanic  Ages 0-4      22811\n",
       "                             Ages 5-9      23623\n",
       "                             Ages 10-14    24521\n",
       "                             Ages 15-19    25987\n",
       "                             Ages 20-24    28766\n",
       "Name: pwgtp, dtype: int64"
      ]
     },
     "execution_count": 221,
     "metadata": {},
     "output_type": "execute_result"
    }
   ],
   "source": [
    "## denominator - at risk population (household population, excluding group quarter households)\n",
    "\n",
    "denominator=persons.loc[(~persons.relp.isin([16,17]))].groupby(hhgrp).pwgtp.sum()\n",
    "denominator.head()"
   ]
  },
  {
   "cell_type": "code",
   "execution_count": 222,
   "metadata": {},
   "outputs": [
    {
     "data": {
      "text/plain": [
       "county    rac_ethn           age_grp_5 \n",
       "Bay Area  Black-NonHispanic  Ages 0-4           NaN\n",
       "                             Ages 10-14         NaN\n",
       "                             Ages 15-19    0.020010\n",
       "                             Ages 20-24    0.141799\n",
       "                             Ages 25-29    0.322645\n",
       "                             Ages 30-34    0.400196\n",
       "                             Ages 35-39    0.483497\n",
       "                             Ages 40-44    0.535070\n",
       "                             Ages 45-49    0.555552\n",
       "                             Ages 5-9           NaN\n",
       "                             Ages 50-54    0.611041\n",
       "                             Ages 55-59    0.582187\n",
       "                             Ages 60-64    0.641168\n",
       "                             Ages 65-69    0.671401\n",
       "                             Ages 70-74    0.738098\n",
       "                             Ages 75-79    0.724215\n",
       "                             Ages 80-84    0.663478\n",
       "                             Ages 85+      0.677969\n",
       "          Hispanic           Ages 0-4           NaN\n",
       "                             Ages 10-14         NaN\n",
       "                             Ages 15-19    0.014102\n",
       "                             Ages 20-24    0.110988\n",
       "                             Ages 25-29    0.244651\n",
       "                             Ages 30-34    0.370142\n",
       "                             Ages 35-39    0.413088\n",
       "                             Ages 40-44    0.447241\n",
       "                             Ages 45-49    0.477371\n",
       "                             Ages 5-9           NaN\n",
       "                             Ages 50-54    0.489460\n",
       "                             Ages 55-59    0.493081\n",
       "                                             ...   \n",
       "SCAG      Other-NonHispanic  Ages 35-39    0.450577\n",
       "                             Ages 40-44    0.472167\n",
       "                             Ages 45-49    0.489248\n",
       "                             Ages 5-9           NaN\n",
       "                             Ages 50-54    0.487642\n",
       "                             Ages 55-59    0.473368\n",
       "                             Ages 60-64    0.462815\n",
       "                             Ages 65-69    0.452267\n",
       "                             Ages 70-74    0.463211\n",
       "                             Ages 75-79    0.452134\n",
       "                             Ages 80-84    0.427202\n",
       "                             Ages 85+      0.454697\n",
       "          White-NonHispanic  Ages 0-4           NaN\n",
       "                             Ages 10-14         NaN\n",
       "                             Ages 15-19    0.014628\n",
       "                             Ages 20-24    0.155883\n",
       "                             Ages 25-29    0.346189\n",
       "                             Ages 30-34    0.462707\n",
       "                             Ages 35-39    0.512210\n",
       "                             Ages 40-44    0.530408\n",
       "                             Ages 45-49    0.545989\n",
       "                             Ages 5-9           NaN\n",
       "                             Ages 50-54    0.554631\n",
       "                             Ages 55-59    0.571419\n",
       "                             Ages 60-64    0.590752\n",
       "                             Ages 65-69    0.616041\n",
       "                             Ages 70-74    0.638977\n",
       "                             Ages 75-79    0.640783\n",
       "                             Ages 80-84    0.669823\n",
       "                             Ages 85+      0.700279\n",
       "Name: pwgtp, Length: 288, dtype: float64"
      ]
     },
     "execution_count": 222,
     "metadata": {},
     "output_type": "execute_result"
    }
   ],
   "source": [
    "headship=numerator.div(denominator,axis=0)\n",
    "headship"
   ]
  },
  {
   "cell_type": "markdown",
   "metadata": {},
   "source": [
    "### Plot Bay Area headship rates, by age, race / ethnicity"
   ]
  },
  {
   "cell_type": "code",
   "execution_count": 223,
   "metadata": {},
   "outputs": [
    {
     "data": {
      "text/plain": [
       "(array([0.5, 1.5, 2.5, 3.5]), <a list of 4 Text xticklabel objects>)"
      ]
     },
     "execution_count": 223,
     "metadata": {},
     "output_type": "execute_result"
    },
    {
     "data": {
      "image/png": "[encoded data removed]",
      "text/plain": [
       "<Figure size 612x792 with 2 Axes>"
      ]
     },
     "metadata": {},
     "output_type": "display_data"
    }
   ],
   "source": [
    "fmt_abs = lambda x,pos: '{:,.2f}'.format(x)\n",
    "\n",
    "fig, ax = plt.subplots()\n",
    "fig.set_figwidth(8.5)\n",
    "fig.set_figheight(11)        \n",
    "ax=sns.heatmap(headship['Bay Area'].unstack(0).loc[agebreaker2(diffbreaks_5)].dropna().fillna(0),\n",
    "             annot=True, fmt='.0%',annot_kws={\"size\": 13.1,'rotation':0},linewidths=.5,\n",
    "              cbar_kws={'format': FuncFormatter(fmt_abs)},\n",
    "               cmap=cm.coolwarm,norm=MidpointNormalize(midpoint=.5));\n",
    "title('Headship rates, by age, race/ethnicity\\nSource: U.S. Census Bureau, PUMS')\n",
    "plt.tight_layout()\n",
    "plt.xticks(rotation=45)\n"
   ]
  },
  {
   "cell_type": "code",
   "execution_count": 203,
   "metadata": {},
   "outputs": [],
   "source": [
    "## write rates to disk\n",
    "\n",
    "headship.reset_index(name='value').fillna(0).to_csv(os.path.join(drop,'Data/PBA2050/headship_stateregions_2014_2018.csv'))"
   ]
  },
  {
   "cell_type": "code",
   "execution_count": null,
   "metadata": {},
   "outputs": [],
   "source": []
  }
 ],
 "metadata": {
  "kernelspec": {
   "display_name": "Python 2",
   "language": "python",
   "name": "python2"
  },
  "language_info": {
   "codemirror_mode": {
    "name": "ipython",
    "version": 2
   },
   "file_extension": ".py",
   "mimetype": "text/x-python",
   "name": "python",
   "nbconvert_exporter": "python",
   "pygments_lexer": "ipython2",
   "version": "2.7.15"
  }
 },
 "nbformat": 4,
 "nbformat_minor": 1
}
